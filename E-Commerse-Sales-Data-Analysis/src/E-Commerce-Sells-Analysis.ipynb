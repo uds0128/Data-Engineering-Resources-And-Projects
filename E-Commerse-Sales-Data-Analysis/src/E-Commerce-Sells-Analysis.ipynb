{
 "cells": [
  {
   "cell_type": "code",
   "execution_count": 1,
   "id": "9d81f782-9ac6-48f6-9740-805c32ef5a38",
   "metadata": {},
   "outputs": [
    {
     "name": "stderr",
     "output_type": "stream",
     "text": [
      "Setting default log level to \"WARN\".\n",
      "To adjust logging level use sc.setLogLevel(newLevel). For SparkR, use setLogLevel(newLevel).\n",
      "24/03/10 17:24:39 WARN NativeCodeLoader: Unable to load native-hadoop library for your platform... using builtin-java classes where applicable\n"
     ]
    },
    {
     "name": "stdout",
     "output_type": "stream",
     "text": [
      "<SparkContext master=local[*] appName=pyspark-shell>\n"
     ]
    }
   ],
   "source": [
    "from pyspark.sql import SparkSession\n",
    "from pyspark.conf import SparkConf\n",
    "from pyspark.context import SparkContext\n",
    "\n",
    "spark = SparkSession.builder.getOrCreate()\n",
    "spark.conf.set(\"spark.sql.legacy.timeParserPolicy\",\"LEGACY\")\n",
    "print (spark.sparkContext)"
   ]
  },
  {
   "cell_type": "code",
   "execution_count": 2,
   "id": "a56ae05c-4e11-4cba-a3c3-8b6088f891c0",
   "metadata": {},
   "outputs": [],
   "source": [
    "from pyspark.sql.functions import to_date, date_trunc, minute, unix_timestamp, from_unixtime, when, col, min, max, lit"
   ]
  },
  {
   "cell_type": "code",
   "execution_count": 3,
   "id": "b8901ca5-408d-4602-b4ec-6e0fb3b938ad",
   "metadata": {},
   "outputs": [],
   "source": [
    "from pyspark.sql.types import StructType, StructField, IntegerType, StringType, DoubleType, LongType, TimestampType\n",
    "\n",
    "sellsSchema = StructType([\n",
    "    StructField(\"InvoiceNo\", LongType(), True),\n",
    "    StructField(\"StockCode\", LongType(), True),\n",
    "    StructField(\"Description\", StringType(), True),\n",
    "    StructField(\"Quantity\", IntegerType(), True),\n",
    "    StructField(\"InvoiceDate\", TimestampType(), True),\n",
    "    StructField(\"UnitPrice\", DoubleType(), True),\n",
    "    StructField(\"CustomerID\", LongType(), True),\n",
    "    StructField(\"Country\", StringType(), True)\n",
    "])"
   ]
  },
  {
   "cell_type": "code",
   "execution_count": 4,
   "id": "c83fee34-a219-4a69-aec6-f4bb5ab13907",
   "metadata": {},
   "outputs": [
    {
     "name": "stderr",
     "output_type": "stream",
     "text": [
      "                                                                                \r"
     ]
    },
    {
     "name": "stdout",
     "output_type": "stream",
     "text": [
      "+---------+---------+--------------------+--------+-------------------+---------+----------+--------------+\n",
      "|InvoiceNo|StockCode|         Description|Quantity|        InvoiceDate|UnitPrice|CustomerID|       Country|\n",
      "+---------+---------+--------------------+--------+-------------------+---------+----------+--------------+\n",
      "|   536365|     NULL|WHITE HANGING HEA...|       6|2010-01-01 08:26:00|     2.55|     17850|United Kingdom|\n",
      "|   536365|    71053| WHITE METAL LANTERN|       6|2010-01-01 08:26:00|     3.39|     17850|United Kingdom|\n",
      "|   536365|     NULL|CREAM CUPID HEART...|       8|2010-01-01 08:26:00|     2.75|     17850|United Kingdom|\n",
      "|   536365|     NULL|KNITTED UNION FLA...|       6|2010-01-01 08:26:00|     3.39|     17850|United Kingdom|\n",
      "|   536365|     NULL|RED WOOLLY HOTTIE...|       6|2010-01-01 08:26:00|     3.39|     17850|United Kingdom|\n",
      "|   536365|    22752|SET 7 BABUSHKA NE...|       2|2010-01-01 08:26:00|     7.65|     17850|United Kingdom|\n",
      "|   536365|    21730|GLASS STAR FROSTE...|       6|2010-01-01 08:26:00|     4.25|     17850|United Kingdom|\n",
      "|   536366|    22633|HAND WARMER UNION...|       6|2010-01-01 08:28:00|     1.85|     17850|United Kingdom|\n",
      "|   536366|    22632|HAND WARMER RED P...|       6|2010-01-01 08:28:00|     1.85|     17850|United Kingdom|\n",
      "|   536367|    84879|ASSORTED COLOUR B...|      32|2010-01-01 08:34:00|     1.69|     13047|United Kingdom|\n",
      "|   536367|    22745|POPPY'S PLAYHOUSE...|       6|2010-01-01 08:34:00|      2.1|     13047|United Kingdom|\n",
      "|   536367|    22748|POPPY'S PLAYHOUSE...|       6|2010-01-01 08:34:00|      2.1|     13047|United Kingdom|\n",
      "|   536367|    22749|FELTCRAFT PRINCES...|       8|2010-01-01 08:34:00|     3.75|     13047|United Kingdom|\n",
      "|   536367|    22310|IVORY KNITTED MUG...|       6|2010-01-01 08:34:00|     1.65|     13047|United Kingdom|\n",
      "|   536367|    84969|BOX OF 6 ASSORTED...|       6|2010-01-01 08:34:00|     4.25|     13047|United Kingdom|\n",
      "|   536367|    22623|BOX OF VINTAGE JI...|       3|2010-01-01 08:34:00|     4.95|     13047|United Kingdom|\n",
      "|   536367|    22622|BOX OF VINTAGE AL...|       2|2010-01-01 08:34:00|     9.95|     13047|United Kingdom|\n",
      "|   536367|    21754|HOME BUILDING BLO...|       3|2010-01-01 08:34:00|     5.95|     13047|United Kingdom|\n",
      "|   536367|    21755|LOVE BUILDING BLO...|       3|2010-01-01 08:34:00|     5.95|     13047|United Kingdom|\n",
      "|   536367|    21777|RECIPE BOX WITH M...|       4|2010-01-01 08:34:00|     7.95|     13047|United Kingdom|\n",
      "+---------+---------+--------------------+--------+-------------------+---------+----------+--------------+\n",
      "only showing top 20 rows\n",
      "\n"
     ]
    }
   ],
   "source": [
    "sellsRaw = spark.read.option(\"header\", \"true\").option(\"timestampFormat\",\"mm/d/yyyy h:mm\").csv(\"./Data/datautf8.csv\", schema=sellsSchema)\n",
    "sellsRaw.show()"
   ]
  },
  {
   "cell_type": "code",
   "execution_count": 5,
   "id": "31184532-f3b2-47d3-bc8d-47ac7e3653f5",
   "metadata": {},
   "outputs": [
    {
     "name": "stderr",
     "output_type": "stream",
     "text": [
      "                                                                                \r"
     ]
    },
    {
     "data": {
      "text/plain": [
       "541909"
      ]
     },
     "execution_count": 5,
     "metadata": {},
     "output_type": "execute_result"
    }
   ],
   "source": [
    "#  Total No Of Sells Records\n",
    "sellsRaw.count()"
   ]
  },
  {
   "cell_type": "code",
   "execution_count": 6,
   "id": "a46de97b-a789-41a1-8ff0-ed3082e342bb",
   "metadata": {},
   "outputs": [],
   "source": [
    "# Total No Of Sells Day Wise\n",
    "\n",
    "sellsWithDate = sellsRaw.withColumn(\"InvoiceDateOnly\",to_date(sellsRaw.InvoiceDate))"
   ]
  },
  {
   "cell_type": "code",
   "execution_count": 7,
   "id": "1942169d-5996-4ea7-8003-cf6914657782",
   "metadata": {},
   "outputs": [
    {
     "name": "stderr",
     "output_type": "stream",
     "text": [
      "[Stage 4:============================================>              (3 + 1) / 4]\r"
     ]
    },
    {
     "name": "stdout",
     "output_type": "stream",
     "text": [
      "+---------------+-----+\n",
      "|InvoiceDateOnly|count|\n",
      "+---------------+-----+\n",
      "|     2011-01-30|15415|\n",
      "|     2011-01-29|11925|\n",
      "|     2011-01-23|16842|\n",
      "|     2011-01-25|16232|\n",
      "|     2011-01-03|12293|\n",
      "|     2011-01-01|14423|\n",
      "|     2011-01-14|15998|\n",
      "|     2010-01-09| 2891|\n",
      "|     2010-01-19|  522|\n",
      "|     2011-01-04|19617|\n",
      "|     2011-01-28|17265|\n",
      "|     2011-01-24|16888|\n",
      "|     2011-01-15|14341|\n",
      "|     2010-01-06| 3878|\n",
      "|     2010-01-10| 2758|\n",
      "|     2011-01-06|20304|\n",
      "|     2011-01-16|13813|\n",
      "|     2010-01-07| 2963|\n",
      "|     2010-01-01| 3108|\n",
      "|     2011-01-05|19379|\n",
      "+---------------+-----+\n",
      "only showing top 20 rows\n",
      "\n"
     ]
    },
    {
     "name": "stderr",
     "output_type": "stream",
     "text": [
      "                                                                                \r"
     ]
    }
   ],
   "source": [
    "# sellsWithDate.show()\n",
    "sellsWithDate.groupBy(\"InvoiceDateOnly\").count().show()"
   ]
  },
  {
   "cell_type": "code",
   "execution_count": 8,
   "id": "3a555d9d-8576-46fc-be0e-b41a04c58e85",
   "metadata": {},
   "outputs": [],
   "source": [
    "# Total No Of Sell Hourly Discretized\n",
    "# If Timestamps minute is <=30 then round it to hour\n",
    "# If Timestamps minute is > 30 then round it to hour + 1\n",
    "\n",
    "SellsWithHourlyDescreteTimestamp = sellsRaw\\\n",
    "    .withColumn(\"minutes\", minute(sellsRaw.InvoiceDate)) \\\n",
    "    .withColumn(\"unixInvoiceDate\", unix_timestamp(sellsRaw.InvoiceDate)) \\\n",
    "    .withColumn(\"DescreteUnixInvoiceDate\", when(col(\"minutes\") <= 30, col(\"unixInvoiceDate\")-60*col(\"minutes\")).otherwise(col(\"unixInvoiceDate\")+(60-col(\"minutes\"))*60)) \\\n",
    "    .withColumn(\"DescreteInvoiceDate\", from_unixtime(col(\"DescreteUnixInvoiceDate\"))) \\\n",
    "    .drop(\"minutes\", \"unixInvoiceDate\", \"DescreteUnixInvoiceDate\")\n",
    "\n",
    "hourlyDescreteSells = SellsWithHourlyDescreteTimestamp.groupBy(SellsWithHourlyDescreteTimestamp.DescreteInvoiceDate)\n",
    "hourlyDescreteSellsCounts = hourlyDescreteSells.count()"
   ]
  },
  {
   "cell_type": "code",
   "execution_count": 9,
   "id": "b8673c2d-42b4-4ce0-92d5-0fec7e95015b",
   "metadata": {},
   "outputs": [
    {
     "name": "stderr",
     "output_type": "stream",
     "text": [
      "                                                                                \r"
     ]
    },
    {
     "name": "stdout",
     "output_type": "stream",
     "text": [
      "2010-01-01 00:00:00\n",
      "2011-01-31 20:00:00\n",
      "+-------------------+-----+\n",
      "|         TimeSeries|count|\n",
      "+-------------------+-----+\n",
      "|2010-01-01 00:00:00|    0|\n",
      "|2010-01-01 01:00:00|    0|\n",
      "|2010-01-01 02:00:00|    0|\n",
      "|2010-01-01 03:00:00|    0|\n",
      "|2010-01-01 04:00:00|    0|\n",
      "|2010-01-01 05:00:00|    0|\n",
      "|2010-01-01 06:00:00|    0|\n",
      "|2010-01-01 07:00:00|    0|\n",
      "|2010-01-01 08:00:00|    0|\n",
      "|2010-01-01 09:00:00|    0|\n",
      "|2010-01-01 10:00:00|    0|\n",
      "|2010-01-01 11:00:00|    0|\n",
      "|2010-01-01 12:00:00|    0|\n",
      "|2010-01-01 13:00:00|    0|\n",
      "|2010-01-01 14:00:00|    0|\n",
      "|2010-01-01 15:00:00|    0|\n",
      "|2010-01-01 16:00:00|    0|\n",
      "|2010-01-01 17:00:00|    0|\n",
      "|2010-01-01 18:00:00|    0|\n",
      "|2010-01-01 19:00:00|    0|\n",
      "+-------------------+-----+\n",
      "only showing top 20 rows\n",
      "\n"
     ]
    }
   ],
   "source": [
    "# As above timestamp has so many empty timeslots in between will add those to create continues time series\n",
    "minDescreteInvoiceDate, maxDescreteInvoiceDate = hourlyDescreteSellsCounts.agg(min(hourlyDescreteSellsCounts.DescreteInvoiceDate), max(hourlyDescreteSellsCounts.DescreteInvoiceDate)).first()\n",
    "print(minDescreteInvoiceDate)\n",
    "print (maxDescreteInvoiceDate)\n",
    "from datetime import datetime\n",
    "unixminDescreteInvoiceDate = datetime.strptime(minDescreteInvoiceDate, \"%Y-%m-%d %H:%M:%S\").strftime('%s')\n",
    "unixmaxDescreteInvoiceDate = datetime.strptime(maxDescreteInvoiceDate, \"%Y-%m-%d %H:%M:%S\").strftime('%s')\n",
    "\n",
    "\n",
    "CompleteTimeSeries = spark.range(unixminDescreteInvoiceDate, unixmaxDescreteInvoiceDate, 60*60).select(col(\"id\").cast(\"timestamp\").alias(\"TimeSeries\"), lit(0).alias(\"count\"))\n",
    "CompleteTimeSeries.show()"
   ]
  },
  {
   "cell_type": "code",
   "execution_count": null,
   "id": "84edcd50-fb1a-4b8a-bb5f-34653c5a486e",
   "metadata": {},
   "outputs": [
    {
     "name": "stderr",
     "output_type": "stream",
     "text": [
      "[Stage 12:=============================>                            (2 + 2) / 4]\r"
     ]
    }
   ],
   "source": [
    "CompleteTimeseriesSellsCount = CompleteTimeSeries \\\n",
    "    .join(hourlyDescreteSellsCounts, CompleteTimeSeries.TimeSeries == hourlyDescreteSellsCounts.DescreteInvoiceDate, how=\"left_outer\") \\\n",
    "    .select(\"TimeSeries\", (when(hourlyDescreteSellsCounts.DescreteInvoiceDate.isNull(), CompleteTimeSeries[\"count\"]).otherwise(hourlyDescreteSellsCounts[\"count\"])).alias(\"count\")) \\\n",
    "    .orderBy(\"TimeSeries\")\n",
    "\n",
    "CompleteTimeseriesSellsCount.show()"
   ]
  }
 ],
 "metadata": {
  "kernelspec": {
   "display_name": "Python 3 (ipykernel)",
   "language": "python",
   "name": "python3"
  },
  "language_info": {
   "codemirror_mode": {
    "name": "ipython",
    "version": 3
   },
   "file_extension": ".py",
   "mimetype": "text/x-python",
   "name": "python",
   "nbconvert_exporter": "python",
   "pygments_lexer": "ipython3",
   "version": "3.10.12"
  }
 },
 "nbformat": 4,
 "nbformat_minor": 5
}

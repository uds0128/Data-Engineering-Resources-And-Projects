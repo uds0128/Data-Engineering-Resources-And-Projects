{
 "cells": [
  {
   "cell_type": "code",
   "execution_count": 1,
   "id": "9d81f782-9ac6-48f6-9740-805c32ef5a38",
   "metadata": {},
   "outputs": [
    {
     "name": "stderr",
     "output_type": "stream",
     "text": [
      "Setting default log level to \"WARN\".\n",
      "To adjust logging level use sc.setLogLevel(newLevel). For SparkR, use setLogLevel(newLevel).\n",
      "24/03/12 16:53:29 WARN NativeCodeLoader: Unable to load native-hadoop library for your platform... using builtin-java classes where applicable\n"
     ]
    },
    {
     "name": "stdout",
     "output_type": "stream",
     "text": [
      "<SparkContext master=local[*] appName=pyspark-shell>\n"
     ]
    }
   ],
   "source": [
    "from pyspark.sql import SparkSession\n",
    "from pyspark.conf import SparkConf\n",
    "from pyspark.context import SparkContext\n",
    "\n",
    "spark = SparkSession.builder.getOrCreate()\n",
    "spark.conf.set(\"spark.sql.legacy.timeParserPolicy\",\"LEGACY\")\n",
    "print (spark.sparkContext)"
   ]
  },
  {
   "cell_type": "code",
   "execution_count": 2,
   "id": "a56ae05c-4e11-4cba-a3c3-8b6088f891c0",
   "metadata": {},
   "outputs": [],
   "source": [
    "from pyspark.sql.functions import to_date, date_trunc, minute, unix_timestamp, from_unixtime, when, col, min, max, lit, sum, round, concat, month, year, substring"
   ]
  },
  {
   "cell_type": "code",
   "execution_count": 3,
   "id": "b8901ca5-408d-4602-b4ec-6e0fb3b938ad",
   "metadata": {},
   "outputs": [],
   "source": [
    "from pyspark.sql.types import StructType, StructField, IntegerType, StringType, DoubleType, LongType, TimestampType\n",
    "\n",
    "sellsSchema = StructType([\n",
    "    StructField(\"InvoiceNo\", LongType(), True),\n",
    "    StructField(\"StockCode\", LongType(), True),\n",
    "    StructField(\"Description\", StringType(), True),\n",
    "    StructField(\"Quantity\", IntegerType(), True),\n",
    "    StructField(\"InvoiceDate\", TimestampType(), True),\n",
    "    StructField(\"UnitPrice\", DoubleType(), True),\n",
    "    StructField(\"CustomerID\", LongType(), True),\n",
    "    StructField(\"Country\", StringType(), True)\n",
    "])"
   ]
  },
  {
   "cell_type": "code",
   "execution_count": 4,
   "id": "c83fee34-a219-4a69-aec6-f4bb5ab13907",
   "metadata": {},
   "outputs": [
    {
     "name": "stderr",
     "output_type": "stream",
     "text": [
      "                                                                                \r"
     ]
    },
    {
     "name": "stdout",
     "output_type": "stream",
     "text": [
      "+---------+---------+--------------------+--------+-------------------+---------+----------+--------------+\n",
      "|InvoiceNo|StockCode|         Description|Quantity|        InvoiceDate|UnitPrice|CustomerID|       Country|\n",
      "+---------+---------+--------------------+--------+-------------------+---------+----------+--------------+\n",
      "|   536365|     NULL|WHITE HANGING HEA...|       6|2010-01-01 08:26:00|     2.55|     17850|United Kingdom|\n",
      "|   536365|    71053| WHITE METAL LANTERN|       6|2010-01-01 08:26:00|     3.39|     17850|United Kingdom|\n",
      "|   536365|     NULL|CREAM CUPID HEART...|       8|2010-01-01 08:26:00|     2.75|     17850|United Kingdom|\n",
      "|   536365|     NULL|KNITTED UNION FLA...|       6|2010-01-01 08:26:00|     3.39|     17850|United Kingdom|\n",
      "|   536365|     NULL|RED WOOLLY HOTTIE...|       6|2010-01-01 08:26:00|     3.39|     17850|United Kingdom|\n",
      "|   536365|    22752|SET 7 BABUSHKA NE...|       2|2010-01-01 08:26:00|     7.65|     17850|United Kingdom|\n",
      "|   536365|    21730|GLASS STAR FROSTE...|       6|2010-01-01 08:26:00|     4.25|     17850|United Kingdom|\n",
      "|   536366|    22633|HAND WARMER UNION...|       6|2010-01-01 08:28:00|     1.85|     17850|United Kingdom|\n",
      "|   536366|    22632|HAND WARMER RED P...|       6|2010-01-01 08:28:00|     1.85|     17850|United Kingdom|\n",
      "|   536367|    84879|ASSORTED COLOUR B...|      32|2010-01-01 08:34:00|     1.69|     13047|United Kingdom|\n",
      "|   536367|    22745|POPPY'S PLAYHOUSE...|       6|2010-01-01 08:34:00|      2.1|     13047|United Kingdom|\n",
      "|   536367|    22748|POPPY'S PLAYHOUSE...|       6|2010-01-01 08:34:00|      2.1|     13047|United Kingdom|\n",
      "|   536367|    22749|FELTCRAFT PRINCES...|       8|2010-01-01 08:34:00|     3.75|     13047|United Kingdom|\n",
      "|   536367|    22310|IVORY KNITTED MUG...|       6|2010-01-01 08:34:00|     1.65|     13047|United Kingdom|\n",
      "|   536367|    84969|BOX OF 6 ASSORTED...|       6|2010-01-01 08:34:00|     4.25|     13047|United Kingdom|\n",
      "|   536367|    22623|BOX OF VINTAGE JI...|       3|2010-01-01 08:34:00|     4.95|     13047|United Kingdom|\n",
      "|   536367|    22622|BOX OF VINTAGE AL...|       2|2010-01-01 08:34:00|     9.95|     13047|United Kingdom|\n",
      "|   536367|    21754|HOME BUILDING BLO...|       3|2010-01-01 08:34:00|     5.95|     13047|United Kingdom|\n",
      "|   536367|    21755|LOVE BUILDING BLO...|       3|2010-01-01 08:34:00|     5.95|     13047|United Kingdom|\n",
      "|   536367|    21777|RECIPE BOX WITH M...|       4|2010-01-01 08:34:00|     7.95|     13047|United Kingdom|\n",
      "+---------+---------+--------------------+--------+-------------------+---------+----------+--------------+\n",
      "only showing top 20 rows\n",
      "\n"
     ]
    }
   ],
   "source": [
    "sellsRaw = spark.read.option(\"header\", \"true\").option(\"timestampFormat\",\"mm/d/yyyy h:mm\").csv(\"./Data/datautf8.csv\", schema=sellsSchema)\n",
    "sellsRaw.show()"
   ]
  },
  {
   "cell_type": "code",
   "execution_count": 5,
   "id": "31184532-f3b2-47d3-bc8d-47ac7e3653f5",
   "metadata": {},
   "outputs": [
    {
     "name": "stderr",
     "output_type": "stream",
     "text": [
      "                                                                                \r"
     ]
    },
    {
     "data": {
      "text/plain": [
       "541909"
      ]
     },
     "execution_count": 5,
     "metadata": {},
     "output_type": "execute_result"
    }
   ],
   "source": [
    "#  Total No Of Sells Records\n",
    "sellsRaw.count()"
   ]
  },
  {
   "cell_type": "code",
   "execution_count": 6,
   "id": "a46de97b-a789-41a1-8ff0-ed3082e342bb",
   "metadata": {},
   "outputs": [],
   "source": [
    "# Total No Of Sells Day Wise\n",
    "\n",
    "sellsWithDate = sellsRaw.withColumn(\"InvoiceDateOnly\",to_date(sellsRaw.InvoiceDate))"
   ]
  },
  {
   "cell_type": "code",
   "execution_count": 7,
   "id": "1942169d-5996-4ea7-8003-cf6914657782",
   "metadata": {},
   "outputs": [
    {
     "name": "stderr",
     "output_type": "stream",
     "text": [
      "[Stage 4:==============>                                            (1 + 3) / 4]\r"
     ]
    },
    {
     "name": "stdout",
     "output_type": "stream",
     "text": [
      "+---------------+-----+\n",
      "|InvoiceDateOnly|count|\n",
      "+---------------+-----+\n",
      "|     2011-01-30|15415|\n",
      "|     2011-01-29|11925|\n",
      "|     2011-01-23|16842|\n",
      "|     2011-01-25|16232|\n",
      "|     2011-01-03|12293|\n",
      "|     2011-01-01|14423|\n",
      "|     2011-01-14|15998|\n",
      "|     2010-01-09| 2891|\n",
      "|     2010-01-19|  522|\n",
      "|     2011-01-04|19617|\n",
      "|     2011-01-28|17265|\n",
      "|     2011-01-24|16888|\n",
      "|     2011-01-15|14341|\n",
      "|     2010-01-06| 3878|\n",
      "|     2010-01-10| 2758|\n",
      "|     2011-01-06|20304|\n",
      "|     2011-01-16|13813|\n",
      "|     2010-01-07| 2963|\n",
      "|     2010-01-01| 3108|\n",
      "|     2011-01-05|19379|\n",
      "+---------------+-----+\n",
      "only showing top 20 rows\n",
      "\n"
     ]
    },
    {
     "name": "stderr",
     "output_type": "stream",
     "text": [
      "                                                                                \r"
     ]
    }
   ],
   "source": [
    "# sellsWithDate.show()\n",
    "sellsWithDate.groupBy(\"InvoiceDateOnly\").count().show()"
   ]
  },
  {
   "cell_type": "code",
   "execution_count": 8,
   "id": "3a555d9d-8576-46fc-be0e-b41a04c58e85",
   "metadata": {},
   "outputs": [],
   "source": [
    "# Total No Of Sell Hourly Discretized\n",
    "# If Timestamps minute is <=30 then round it to hour\n",
    "# If Timestamps minute is > 30 then round it to hour + 1\n",
    "\n",
    "SellsWithHourlyDescreteTimestamp = sellsRaw\\\n",
    "    .withColumn(\"minutes\", minute(sellsRaw.InvoiceDate)) \\\n",
    "    .withColumn(\"unixInvoiceDate\", unix_timestamp(sellsRaw.InvoiceDate)) \\\n",
    "    .withColumn(\"DescreteUnixInvoiceDate\", when(col(\"minutes\") <= 30, col(\"unixInvoiceDate\")-60*col(\"minutes\")).otherwise(col(\"unixInvoiceDate\")+(60-col(\"minutes\"))*60)) \\\n",
    "    .withColumn(\"DescreteInvoiceDate\", from_unixtime(col(\"DescreteUnixInvoiceDate\"))) \\\n",
    "    .drop(\"minutes\", \"unixInvoiceDate\", \"DescreteUnixInvoiceDate\")\n",
    "\n",
    "hourlyDescreteSells = SellsWithHourlyDescreteTimestamp.groupBy(SellsWithHourlyDescreteTimestamp.DescreteInvoiceDate)\n",
    "hourlyDescreteSellsCounts = hourlyDescreteSells.count()"
   ]
  },
  {
   "cell_type": "code",
   "execution_count": 9,
   "id": "b8673c2d-42b4-4ce0-92d5-0fec7e95015b",
   "metadata": {},
   "outputs": [
    {
     "name": "stderr",
     "output_type": "stream",
     "text": [
      "                                                                                \r"
     ]
    },
    {
     "name": "stdout",
     "output_type": "stream",
     "text": [
      "2010-01-01 00:00:00\n",
      "2011-01-31 20:00:00\n",
      "+-------------------+-----+\n",
      "|         TimeSeries|count|\n",
      "+-------------------+-----+\n",
      "|2010-01-01 00:00:00|    0|\n",
      "|2010-01-01 01:00:00|    0|\n",
      "|2010-01-01 02:00:00|    0|\n",
      "|2010-01-01 03:00:00|    0|\n",
      "|2010-01-01 04:00:00|    0|\n",
      "|2010-01-01 05:00:00|    0|\n",
      "|2010-01-01 06:00:00|    0|\n",
      "|2010-01-01 07:00:00|    0|\n",
      "|2010-01-01 08:00:00|    0|\n",
      "|2010-01-01 09:00:00|    0|\n",
      "|2010-01-01 10:00:00|    0|\n",
      "|2010-01-01 11:00:00|    0|\n",
      "|2010-01-01 12:00:00|    0|\n",
      "|2010-01-01 13:00:00|    0|\n",
      "|2010-01-01 14:00:00|    0|\n",
      "|2010-01-01 15:00:00|    0|\n",
      "|2010-01-01 16:00:00|    0|\n",
      "|2010-01-01 17:00:00|    0|\n",
      "|2010-01-01 18:00:00|    0|\n",
      "|2010-01-01 19:00:00|    0|\n",
      "+-------------------+-----+\n",
      "only showing top 20 rows\n",
      "\n"
     ]
    }
   ],
   "source": [
    "# As above timestamp has so many empty timeslots in between will add those to create continues time series\n",
    "minDescreteInvoiceDate, maxDescreteInvoiceDate = hourlyDescreteSellsCounts.agg(min(hourlyDescreteSellsCounts.DescreteInvoiceDate), max(hourlyDescreteSellsCounts.DescreteInvoiceDate)).first()\n",
    "print(minDescreteInvoiceDate)\n",
    "print (maxDescreteInvoiceDate)\n",
    "from datetime import datetime\n",
    "unixminDescreteInvoiceDate = datetime.strptime(minDescreteInvoiceDate, \"%Y-%m-%d %H:%M:%S\").strftime('%s')\n",
    "unixmaxDescreteInvoiceDate = datetime.strptime(maxDescreteInvoiceDate, \"%Y-%m-%d %H:%M:%S\").strftime('%s')\n",
    "\n",
    "\n",
    "CompleteTimeSeries = spark.range(unixminDescreteInvoiceDate, unixmaxDescreteInvoiceDate, 60*60).select(col(\"id\").cast(\"timestamp\").alias(\"TimeSeries\"), lit(0).alias(\"count\"))\n",
    "CompleteTimeSeries.show()"
   ]
  },
  {
   "cell_type": "code",
   "execution_count": 10,
   "id": "84edcd50-fb1a-4b8a-bb5f-34653c5a486e",
   "metadata": {},
   "outputs": [
    {
     "name": "stderr",
     "output_type": "stream",
     "text": [
      "                                                                                \r"
     ]
    },
    {
     "name": "stdout",
     "output_type": "stream",
     "text": [
      "+-------------------+-----+\n",
      "|         TimeSeries|count|\n",
      "+-------------------+-----+\n",
      "|2010-01-01 00:00:00|  194|\n",
      "|2010-01-01 01:00:00|  227|\n",
      "|2010-01-01 02:00:00|    0|\n",
      "|2010-01-01 03:00:00|    0|\n",
      "|2010-01-01 04:00:00|    0|\n",
      "|2010-01-01 05:00:00|    0|\n",
      "|2010-01-01 06:00:00|    0|\n",
      "|2010-01-01 07:00:00|    0|\n",
      "|2010-01-01 08:00:00|    9|\n",
      "|2010-01-01 09:00:00|   57|\n",
      "|2010-01-01 10:00:00|  186|\n",
      "|2010-01-01 11:00:00|  163|\n",
      "|2010-01-01 12:00:00|  273|\n",
      "|2010-01-01 13:00:00|  200|\n",
      "|2010-01-01 14:00:00|  134|\n",
      "|2010-01-01 15:00:00|  742|\n",
      "|2010-01-01 16:00:00|  188|\n",
      "|2010-01-01 17:00:00|  707|\n",
      "|2010-01-01 18:00:00|   28|\n",
      "|2010-01-01 19:00:00|    0|\n",
      "+-------------------+-----+\n",
      "only showing top 20 rows\n",
      "\n"
     ]
    }
   ],
   "source": [
    "CompleteTimeseriesSellsCount = CompleteTimeSeries \\\n",
    "    .join(hourlyDescreteSellsCounts, CompleteTimeSeries.TimeSeries == hourlyDescreteSellsCounts.DescreteInvoiceDate, how=\"left_outer\") \\\n",
    "    .select(\"TimeSeries\", (when(hourlyDescreteSellsCounts.DescreteInvoiceDate.isNull(), CompleteTimeSeries[\"count\"]).otherwise(hourlyDescreteSellsCounts[\"count\"])).alias(\"count\")) \\\n",
    "    .orderBy(\"TimeSeries\")\n",
    "\n",
    "CompleteTimeseriesSellsCount.show()"
   ]
  },
  {
   "cell_type": "code",
   "execution_count": 11,
   "id": "ce5721c2-6700-43aa-a67a-b29b1b43fd35",
   "metadata": {},
   "outputs": [
    {
     "name": "stderr",
     "output_type": "stream",
     "text": [
      "[Stage 17:==============>                                           (1 + 3) / 4]\r"
     ]
    },
    {
     "name": "stdout",
     "output_type": "stream",
     "text": [
      "+-------------------+------------+\n",
      "|DescreteInvoiceDate|TotalRevenue|\n",
      "+-------------------+------------+\n",
      "|2010-01-01 00:00:00|     5290.74|\n",
      "|2010-01-01 01:00:00|     2131.68|\n",
      "|2010-01-01 08:00:00|      161.32|\n",
      "|2010-01-01 09:00:00|     2058.95|\n",
      "|2010-01-01 10:00:00|     8848.43|\n",
      "|2010-01-01 11:00:00|     4108.81|\n",
      "|2010-01-01 12:00:00|     2859.03|\n",
      "|2010-01-01 13:00:00|     3807.39|\n",
      "|2010-01-01 14:00:00|     3082.88|\n",
      "|2010-01-01 15:00:00|     8536.03|\n",
      "|2010-01-01 16:00:00|     9190.33|\n",
      "|2010-01-01 17:00:00|     8457.18|\n",
      "|2010-01-01 18:00:00|      102.79|\n",
      "|2010-01-02 00:00:00|     2853.76|\n",
      "|2010-01-02 01:00:00|     1894.97|\n",
      "|2010-01-02 08:00:00|       467.0|\n",
      "|2010-01-02 09:00:00|      1215.0|\n",
      "|2010-01-02 10:00:00|     3991.03|\n",
      "|2010-01-02 11:00:00|     3909.71|\n",
      "|2010-01-02 12:00:00|     1848.14|\n",
      "+-------------------+------------+\n",
      "only showing top 20 rows\n",
      "\n"
     ]
    },
    {
     "name": "stderr",
     "output_type": "stream",
     "text": [
      "                                                                                \r"
     ]
    }
   ],
   "source": [
    "# Total Hourly Revanue Generated Over The Time\n",
    "TotalHourlySells = hourlyDescreteSells.agg(round(sum(sellsRaw.Quantity*sellsRaw.UnitPrice),2).alias(\"TotalRevenue\"))\n",
    "TotalHourlySells.orderBy(TotalHourlySells.DescreteInvoiceDate).show()"
   ]
  },
  {
   "cell_type": "code",
   "execution_count": 12,
   "id": "4b678a79-6ebe-4c57-b15b-71e81ff9227c",
   "metadata": {},
   "outputs": [
    {
     "name": "stderr",
     "output_type": "stream",
     "text": [
      "[Stage 20:==============>                                           (1 + 3) / 4]\r"
     ]
    },
    {
     "name": "stdout",
     "output_type": "stream",
     "text": [
      "+-----------+------------+\n",
      "|InvoiceDate|TotalRevenue|\n",
      "+-----------+------------+\n",
      "| 2010-01-01|    58635.56|\n",
      "| 2010-01-02|    46207.28|\n",
      "| 2010-01-03|    45620.46|\n",
      "| 2010-01-05|    31383.95|\n",
      "| 2010-01-06|    53860.18|\n",
      "| 2010-01-07|    45059.05|\n",
      "| 2010-01-08|    44189.84|\n",
      "| 2010-01-09|    52532.13|\n",
      "| 2010-01-10|    57404.91|\n",
      "| 2010-01-12|    17240.92|\n",
      "| 2010-01-13|    35379.34|\n",
      "| 2010-01-14|    42843.29|\n",
      "| 2010-01-15|    29443.69|\n",
      "| 2010-01-16|    48334.35|\n",
      "| 2010-01-17|    43534.19|\n",
      "| 2010-01-19|     7517.31|\n",
      "| 2010-01-20|    24741.75|\n",
      "| 2010-01-21|    47097.94|\n",
      "| 2010-01-22|     6134.57|\n",
      "| 2010-01-23|    11796.31|\n",
      "+-----------+------------+\n",
      "only showing top 20 rows\n",
      "\n"
     ]
    },
    {
     "name": "stderr",
     "output_type": "stream",
     "text": [
      "                                                                                \r"
     ]
    }
   ],
   "source": [
    "# Total Daily Revanue Generated Over The Time\n",
    "TotalDailySells = TotalHourlySells.withColumn(\"InvoiceDate\", to_date(TotalHourlySells.DescreteInvoiceDate))\n",
    "TotalDailySells.groupBy(TotalDailySells.InvoiceDate).agg(round(sum(TotalDailySells.TotalRevenue), 2).alias(\"TotalRevenue\")).orderBy(TotalDailySells.InvoiceDate).show()"
   ]
  },
  {
   "cell_type": "code",
   "execution_count": 13,
   "id": "33a7a9bc-6924-447b-a625-c0f20a72fc14",
   "metadata": {},
   "outputs": [
    {
     "name": "stderr",
     "output_type": "stream",
     "text": [
      "[Stage 26:=============================>                            (2 + 2) / 4]\r"
     ]
    },
    {
     "name": "stdout",
     "output_type": "stream",
     "text": [
      "+----------+------------+\n",
      "|month_year|TotalRevenue|\n",
      "+----------+------------+\n",
      "|   2010-01|   748957.02|\n",
      "|   2011-01|  8998790.91|\n",
      "+----------+------------+\n",
      "\n"
     ]
    },
    {
     "name": "stderr",
     "output_type": "stream",
     "text": [
      "                                                                                \r"
     ]
    }
   ],
   "source": [
    "# Total Monthly Revenue\n",
    "TotalMonthlySells = TotalDailySells.withColumn(\"month_year\", substring(TotalDailySells.InvoiceDate.cast(\"string\"),0,7))\n",
    "\n",
    "TotalMonthlySells.groupBy(TotalMonthlySells.month_year).agg(round(sum(TotalMonthlySells.TotalRevenue), 2).alias(\"TotalRevenue\")).show()"
   ]
  },
  {
   "cell_type": "code",
   "execution_count": 14,
   "id": "b734892f-8d34-464f-8a5e-d19f15d9236a",
   "metadata": {},
   "outputs": [],
   "source": [
    "SellsWithDailyDescreteTimestamp = SellsWithHourlyDescreteTimestamp.withColumn(\"InvoiceDate\", to_date(\"DescreteInvoiceDate\")).drop(\"DescreteInvoiceDate\")"
   ]
  },
  {
   "cell_type": "code",
   "execution_count": 15,
   "id": "936d2be8-bc7e-40d4-972d-a0288aa64776",
   "metadata": {},
   "outputs": [
    {
     "name": "stderr",
     "output_type": "stream",
     "text": [
      "[Stage 32:===========================================>              (3 + 1) / 4]\r"
     ]
    },
    {
     "name": "stdout",
     "output_type": "stream",
     "text": [
      "+---------+---------+--------------------+--------+-----------+---------+----------+--------------+----+\n",
      "|InvoiceNo|StockCode|         Description|Quantity|InvoiceDate|UnitPrice|CustomerID|       Country|rank|\n",
      "+---------+---------+--------------------+--------+-----------+---------+----------+--------------+----+\n",
      "|   536437|    17021|NAMASTE SWAGAT IN...|     600| 2010-01-01|     0.24|     13694|United Kingdom|   1|\n",
      "|   536477|    21137|BLACK RECORD COVE...|     480| 2010-01-01|     3.39|     16210|United Kingdom|   2|\n",
      "|   536387|    22466|FAIRY TALE COTTAG...|     432| 2010-01-01|     1.45|     16029|United Kingdom|   3|\n",
      "|   536387|    21731|RED TOADSTOOL LED...|     432| 2010-01-01|     1.25|     16029|United Kingdom|   3|\n",
      "|   536584|     NULL|RED WOOLLY HOTTIE...|     384| 2010-01-01|     2.95|     13777|United Kingdom|   4|\n",
      "|   536390|    20668|DISCO BALL CHRIST...|     288| 2010-01-01|      0.1|     17511|United Kingdom|   5|\n",
      "|   536830|    84077|WORLD WAR 2 GLIDE...|    2880| 2010-01-02|     0.18|     16754|United Kingdom|   1|\n",
      "|   536809|    84950|ASSORTED COLOUR T...|    1824| 2010-01-02|     0.55|     15299|United Kingdom|   2|\n",
      "|   536830|    21915|RED  HARMONICA IN...|    1400| 2010-01-02|     1.06|     16754|United Kingdom|   3|\n",
      "|   536736|    22616|PACK OF 12 LONDON...|     600| 2010-01-02|     0.29|     17381|United Kingdom|   4|\n",
      "|   536785|    84879|ASSORTED COLOUR B...|     320| 2010-01-02|     1.45|     15061|United Kingdom|   5|\n",
      "|   536890|     NULL|ASSORTED INCENSE ...|    1440| 2010-01-03|     0.16|     14156|          EIRE|   1|\n",
      "|   536969|    71477|COLOUR GLASS. STA...|     192| 2010-01-03|     2.75|     16013|United Kingdom|   2|\n",
      "|   536968|    71477|COLOUR GLASS. STA...|     120| 2010-01-03|     2.75|     16013|United Kingdom|   3|\n",
      "|   536970|    22423|REGENCY CAKESTAND...|     120| 2010-01-03|    10.95|     17949|United Kingdom|   3|\n",
      "|   537026|    21212|PACK OF 72 RETROS...|     120| 2010-01-03|     0.42|     12395|       Belgium|   3|\n",
      "|   537026|    21977|PACK OF 60 PINK P...|     120| 2010-01-03|     0.42|     12395|       Belgium|   3|\n",
      "|   537026|    22417|PACK OF 60 SPACEB...|     120| 2010-01-03|     0.42|     12395|       Belgium|   3|\n",
      "|   536999|    21421|                NULL|     110| 2010-01-03|      0.0|      NULL|United Kingdom|   4|\n",
      "|   536982|     NULL|RED WOOLLY HOTTIE...|     108| 2010-01-03|     8.47|      NULL|United Kingdom|   5|\n",
      "+---------+---------+--------------------+--------+-----------+---------+----------+--------------+----+\n",
      "only showing top 20 rows\n",
      "\n"
     ]
    },
    {
     "name": "stderr",
     "output_type": "stream",
     "text": [
      "                                                                                \r"
     ]
    }
   ],
   "source": [
    "from pyspark.sql.window import Window\n",
    "from pyspark.sql.functions import dense_rank, desc\n",
    "# Top 5 Sold Products For Each Date\n",
    "\n",
    "DailyWindow = Window.partitionBy(\"InvoiceDate\").orderBy(desc(\"Quantity\"))\n",
    "top5Daily = SellsWithDailyDescreteTimestamp.withColumn(\"rank\", dense_rank().over(DailyWindow))\n",
    "top5Daily.where(top5Daily.rank <= 5).show()"
   ]
  },
  {
   "cell_type": "code",
   "execution_count": 16,
   "id": "b4589d3c-1894-4136-b30e-5778d58826b5",
   "metadata": {},
   "outputs": [
    {
     "name": "stderr",
     "output_type": "stream",
     "text": [
      "[Stage 35:=============================>                            (2 + 2) / 4]\r"
     ]
    },
    {
     "name": "stdout",
     "output_type": "stream",
     "text": [
      "+-----------+---------+--------+----+\n",
      "|InvoiceDate|InvoiceNo| Revenue|rank|\n",
      "+-----------+---------+--------+----+\n",
      "| 2010-01-01|   536592| 6915.65|   1|\n",
      "| 2010-01-01|   536544| 5521.14|   2|\n",
      "| 2010-01-01|   536387| 3193.92|   3|\n",
      "| 2010-01-01|   536576| 2558.42|   4|\n",
      "| 2010-01-01|   536477| 2474.74|   5|\n",
      "| 2010-01-02|   536783| 4076.48|   1|\n",
      "| 2010-01-02|   536785| 2730.96|   2|\n",
      "| 2010-01-02|   536784|  2170.9|   3|\n",
      "| 2010-01-02|   536830|  2002.4|   4|\n",
      "| 2010-01-02|   536804| 1714.25|   5|\n",
      "| 2010-01-03|   536982|10661.69|   1|\n",
      "| 2010-01-03|   536876| 7257.08|   2|\n",
      "| 2010-01-03|   536865| 2396.96|   3|\n",
      "| 2010-01-03|   537034| 2355.18|   4|\n",
      "| 2010-01-03|   536975| 1705.65|   5|\n",
      "| 2010-01-05|   537214|  1668.2|   1|\n",
      "| 2010-01-05|   537201|  1631.3|   2|\n",
      "| 2010-01-05|   537065| 1526.92|   3|\n",
      "| 2010-01-05|   537224| 1415.97|   4|\n",
      "| 2010-01-05|   537081| 1145.06|   5|\n",
      "+-----------+---------+--------+----+\n",
      "only showing top 20 rows\n",
      "\n"
     ]
    },
    {
     "name": "stderr",
     "output_type": "stream",
     "text": [
      "                                                                                \r"
     ]
    }
   ],
   "source": [
    "from pyspark.sql.window import Window\n",
    "from pyspark.sql.functions import dense_rank, desc\n",
    "\n",
    "# Top 5 Invoices Of Day In terms Of Revenue and \n",
    "\n",
    "DailyRevenueWindow = Window.partitionBy(\"InvoiceDate\").orderBy(desc(\"Revenue\"))\n",
    "top5RevenueDaily = SellsWithDailyDescreteTimestamp.groupBy(\"InvoiceDate\", \"InvoiceNo\").agg(round(sum(col(\"UnitPrice\") * col(\"Quantity\")),2).alias(\"Revenue\"))\n",
    "top5RevenueDailyRanked = top5RevenueDaily.withColumn(\"rank\", dense_rank().over(DailyRevenueWindow))\n",
    "top5RevenueDailyRanked.where(top5RevenueDailyRanked.rank <= 5).show()"
   ]
  },
  {
   "cell_type": "code",
   "execution_count": 18,
   "id": "2bf06648-8941-4355-b0da-86573bbe8bc5",
   "metadata": {},
   "outputs": [
    {
     "name": "stderr",
     "output_type": "stream",
     "text": [
      "[Stage 41:===========================================>              (3 + 1) / 4]\r"
     ]
    },
    {
     "name": "stdout",
     "output_type": "stream",
     "text": [
      "+-----------+---------+----------+-------+----+\n",
      "|InvoiceDate|InvoiceNo|CustomerID|Revenue|rank|\n",
      "+-----------+---------+----------+-------+----+\n",
      "| 2010-01-01|   536592|      NULL|6915.65|   1|\n",
      "| 2010-01-01|   536544|      NULL|5521.14|   2|\n",
      "| 2010-01-01|   536558|      NULL|  99.75|   3|\n",
      "| 2010-01-01|   536596|      NULL|  38.09|   4|\n",
      "| 2010-01-01|   536565|      NULL|    6.7|   5|\n",
      "| 2010-01-01|   536389|     12431| 358.25|   1|\n",
      "| 2010-01-01|   536532|     12433|1919.14|   1|\n",
      "| 2010-01-01|     NULL|     12472| -122.3|   1|\n",
      "| 2010-01-01|   536370|     12583| 855.86|   1|\n",
      "| 2010-01-01|   536527|     12662| 261.48|   1|\n",
      "| 2010-01-01|   536521|     12748|   4.95|   1|\n",
      "| 2010-01-01|   536403|     12791|  192.6|   1|\n",
      "| 2010-01-01|   536415|     12838| 390.79|   1|\n",
      "| 2010-01-01|   536523|     12868|  203.3|   1|\n",
      "| 2010-01-01|   536561|     12921|  322.4|   1|\n",
      "| 2010-01-01|   536582|     12947| 304.04|   1|\n",
      "| 2010-01-01|   536367|     13047| 278.73|   1|\n",
      "| 2010-01-01|   536368|     13047|  70.05|   2|\n",
      "| 2010-01-01|   536369|     13047|  17.85|   3|\n",
      "| 2010-01-01|   536590|     13065| 205.86|   1|\n",
      "+-----------+---------+----------+-------+----+\n",
      "only showing top 20 rows\n",
      "\n"
     ]
    },
    {
     "name": "stderr",
     "output_type": "stream",
     "text": [
      "                                                                                \r"
     ]
    }
   ],
   "source": [
    "# Top 5 High Revenue Customers Of Day\n",
    "\n",
    "DailyCustomerRevenueWindow = Window.partitionBy(\"InvoiceDate\", \"CustomerID\").orderBy(desc(\"Revenue\"))\n",
    "top5CustomerDaily = SellsWithDailyDescreteTimestamp.groupBy(\"InvoiceDate\", \"InvoiceNo\", \"CustomerID\").agg(round(sum(col(\"UnitPrice\") * col(\"Quantity\")),2).alias(\"Revenue\"))\n",
    "top5CustomerDailyRanked = top5CustomerDaily.withColumn(\"rank\", dense_rank().over(DailyCustomerRevenueWindow))\n",
    "top5CustomerDailyRanked.where(top5CustomerDailyRanked.rank <= 5).show()\n"
   ]
  },
  {
   "cell_type": "code",
   "execution_count": null,
   "id": "e2150a82-e8ac-44ca-8c28-e29b06c11484",
   "metadata": {},
   "outputs": [],
   "source": []
  }
 ],
 "metadata": {
  "kernelspec": {
   "display_name": "Python 3 (ipykernel)",
   "language": "python",
   "name": "python3"
  },
  "language_info": {
   "codemirror_mode": {
    "name": "ipython",
    "version": 3
   },
   "file_extension": ".py",
   "mimetype": "text/x-python",
   "name": "python",
   "nbconvert_exporter": "python",
   "pygments_lexer": "ipython3",
   "version": "3.10.12"
  }
 },
 "nbformat": 4,
 "nbformat_minor": 5
}
